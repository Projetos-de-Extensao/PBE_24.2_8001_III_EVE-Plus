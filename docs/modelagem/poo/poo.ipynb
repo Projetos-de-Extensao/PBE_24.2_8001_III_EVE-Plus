{
 "cells": [
  {
   "cell_type": "markdown",
   "metadata": {},
   "source": [
    "# Introducao ao Notebooke do Jupyter e Python OO"
   ]
  },
  {
   "cell_type": "markdown",
   "metadata": {},
   "source": [
    "## Criação do arquivo Notebook em python"
   ]
  },
  {
   "cell_type": "markdown",
   "metadata": {},
   "source": [
    "Exemplo de cogigo criado no Notebook"
   ]
  },
  {
   "cell_type": "code",
   "execution_count": 8,
   "metadata": {},
   "outputs": [
    {
     "name": "stdout",
     "output_type": "stream",
     "text": [
      "6\n"
     ]
    },
    {
     "data": {
      "text/plain": [
       "25"
      ]
     },
     "execution_count": 8,
     "metadata": {},
     "output_type": "execute_result"
    }
   ],
   "source": [
    "a = 1\n",
    "b = 5\n",
    "\n",
    "c = a+b\n",
    "d = b*b\n",
    "\n",
    "print(c)\n",
    "d"
   ]
  },
  {
   "cell_type": "markdown",
   "metadata": {},
   "source": [
    " Para criação de um arquivo Notebook você deve so criar um arquivo .ipynb \n",
    "\n",
    " "
   ]
  },
  {
   "cell_type": "markdown",
   "metadata": {},
   "source": [
    "## Python OO "
   ]
  },
  {
   "cell_type": "markdown",
   "metadata": {},
   "source": [
    "### Estrutura basica de OO em Python"
   ]
  },
  {
   "cell_type": "code",
   "execution_count": 12,
   "metadata": {},
   "outputs": [],
   "source": [
    "class empregado:\n",
    "    def __init__(self, nome, cargo): ## Construtor\n",
    "        self.nome = nome\n",
    "        self.cargo = cargo\n",
    "\n",
    "    def getNome(self): ## Metodos\n",
    "        return self.nome\n",
    "\n",
    "    def getCargo(self):\n",
    "        return self.cargo\n",
    "        "
   ]
  },
  {
   "cell_type": "code",
   "execution_count": 17,
   "metadata": {},
   "outputs": [
    {
     "name": "stdout",
     "output_type": "stream",
     "text": [
      "Pedro\n",
      "Administrativo\n"
     ]
    }
   ],
   "source": [
    "\n",
    "empregado1 = empregado(\"Pedro\", \"Administrativo\")\n",
    "print(empregado1.getNome())\n",
    "print(empregado1.getCargo())"
   ]
  },
  {
   "cell_type": "code",
   "execution_count": 18,
   "metadata": {},
   "outputs": [
    {
     "name": "stdout",
     "output_type": "stream",
     "text": [
      "Ana\n",
      "Gerente\n"
     ]
    }
   ],
   "source": [
    "empregado2 = empregado(\"Ana\", \"Gerente\")\n",
    "print(empregado2.nome)\n",
    "print(empregado2.cargo)"
   ]
  },
  {
   "cell_type": "markdown",
   "metadata": {},
   "source": [
    "Neste caso é criado uma classe empregado com 2 atributos, o nome e o cargo, e 2 metodos o getNome e getCargo "
   ]
  }
 ],
 "metadata": {
  "kernelspec": {
   "display_name": ".venv",
   "language": "python",
   "name": "python3"
  },
  "language_info": {
   "codemirror_mode": {
    "name": "ipython",
    "version": 3
   },
   "file_extension": ".py",
   "mimetype": "text/x-python",
   "name": "python",
   "nbconvert_exporter": "python",
   "pygments_lexer": "ipython3",
   "version": "3.12.6"
  }
 },
 "nbformat": 4,
 "nbformat_minor": 2
}
