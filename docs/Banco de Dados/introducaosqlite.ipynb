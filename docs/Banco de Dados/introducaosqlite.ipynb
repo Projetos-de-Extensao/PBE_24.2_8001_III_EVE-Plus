{
 "cells": [
  {
   "cell_type": "markdown",
   "metadata": {},
   "source": [
    "## Instalacao do SQLite "
   ]
  },
  {
   "cell_type": "code",
   "execution_count": 5,
   "metadata": {
    "vscode": {
     "languageId": "sql"
    }
   },
   "outputs": [
    {
     "name": "stdout",
     "output_type": "stream",
     "text": [
      "Requirement already satisfied: ipython-sql in c:\\users\\202307623911\\pbe_24.2_8001_iii_eve-plus\\.venv\\lib\\site-packages (0.5.0)\n",
      "Requirement already satisfied: prettytable in c:\\users\\202307623911\\pbe_24.2_8001_iii_eve-plus\\.venv\\lib\\site-packages (from ipython-sql) (3.11.0)\n",
      "Requirement already satisfied: ipython in c:\\users\\202307623911\\pbe_24.2_8001_iii_eve-plus\\.venv\\lib\\site-packages (from ipython-sql) (8.28.0)\n",
      "Requirement already satisfied: sqlalchemy>=2.0 in c:\\users\\202307623911\\pbe_24.2_8001_iii_eve-plus\\.venv\\lib\\site-packages (from ipython-sql) (2.0.36)\n",
      "Requirement already satisfied: sqlparse in c:\\users\\202307623911\\pbe_24.2_8001_iii_eve-plus\\.venv\\lib\\site-packages (from ipython-sql) (0.5.1)\n",
      "Requirement already satisfied: six in c:\\users\\202307623911\\pbe_24.2_8001_iii_eve-plus\\.venv\\lib\\site-packages (from ipython-sql) (1.16.0)\n",
      "Requirement already satisfied: ipython-genutils in c:\\users\\202307623911\\pbe_24.2_8001_iii_eve-plus\\.venv\\lib\\site-packages (from ipython-sql) (0.2.0)\n",
      "Requirement already satisfied: typing-extensions>=4.6.0 in c:\\users\\202307623911\\pbe_24.2_8001_iii_eve-plus\\.venv\\lib\\site-packages (from sqlalchemy>=2.0->ipython-sql) (4.12.2)\n",
      "Requirement already satisfied: greenlet!=0.4.17 in c:\\users\\202307623911\\pbe_24.2_8001_iii_eve-plus\\.venv\\lib\\site-packages (from sqlalchemy>=2.0->ipython-sql) (3.1.1)\n",
      "Requirement already satisfied: decorator in c:\\users\\202307623911\\pbe_24.2_8001_iii_eve-plus\\.venv\\lib\\site-packages (from ipython->ipython-sql) (5.1.1)\n",
      "Requirement already satisfied: jedi>=0.16 in c:\\users\\202307623911\\pbe_24.2_8001_iii_eve-plus\\.venv\\lib\\site-packages (from ipython->ipython-sql) (0.19.1)\n",
      "Requirement already satisfied: matplotlib-inline in c:\\users\\202307623911\\pbe_24.2_8001_iii_eve-plus\\.venv\\lib\\site-packages (from ipython->ipython-sql) (0.1.7)\n",
      "Requirement already satisfied: prompt-toolkit<3.1.0,>=3.0.41 in c:\\users\\202307623911\\pbe_24.2_8001_iii_eve-plus\\.venv\\lib\\site-packages (from ipython->ipython-sql) (3.0.48)\n",
      "Requirement already satisfied: pygments>=2.4.0 in c:\\users\\202307623911\\pbe_24.2_8001_iii_eve-plus\\.venv\\lib\\site-packages (from ipython->ipython-sql) (2.18.0)\n",
      "Requirement already satisfied: stack-data in c:\\users\\202307623911\\pbe_24.2_8001_iii_eve-plus\\.venv\\lib\\site-packages (from ipython->ipython-sql) (0.6.3)\n",
      "Requirement already satisfied: traitlets>=5.13.0 in c:\\users\\202307623911\\pbe_24.2_8001_iii_eve-plus\\.venv\\lib\\site-packages (from ipython->ipython-sql) (5.14.3)\n",
      "Requirement already satisfied: colorama in c:\\users\\202307623911\\pbe_24.2_8001_iii_eve-plus\\.venv\\lib\\site-packages (from ipython->ipython-sql) (0.4.6)\n",
      "Requirement already satisfied: wcwidth in c:\\users\\202307623911\\pbe_24.2_8001_iii_eve-plus\\.venv\\lib\\site-packages (from prettytable->ipython-sql) (0.2.13)\n",
      "Requirement already satisfied: parso<0.9.0,>=0.8.3 in c:\\users\\202307623911\\pbe_24.2_8001_iii_eve-plus\\.venv\\lib\\site-packages (from jedi>=0.16->ipython->ipython-sql) (0.8.4)\n",
      "Requirement already satisfied: executing>=1.2.0 in c:\\users\\202307623911\\pbe_24.2_8001_iii_eve-plus\\.venv\\lib\\site-packages (from stack-data->ipython->ipython-sql) (2.1.0)\n",
      "Requirement already satisfied: asttokens>=2.1.0 in c:\\users\\202307623911\\pbe_24.2_8001_iii_eve-plus\\.venv\\lib\\site-packages (from stack-data->ipython->ipython-sql) (2.4.1)\n",
      "Requirement already satisfied: pure-eval in c:\\users\\202307623911\\pbe_24.2_8001_iii_eve-plus\\.venv\\lib\\site-packages (from stack-data->ipython->ipython-sql) (0.2.3)\n"
     ]
    }
   ],
   "source": [
    "!pip install ipython-sql\n",
    "%load_ext sql"
   ]
  },
  {
   "cell_type": "markdown",
   "metadata": {},
   "source": [
    "## Criacao do arquivo do banco de daddos"
   ]
  },
  {
   "cell_type": "code",
   "execution_count": 6,
   "metadata": {
    "vscode": {
     "languageId": "sql"
    }
   },
   "outputs": [],
   "source": [
    "%sql sqlite:///contatos.db"
   ]
  },
  {
   "cell_type": "markdown",
   "metadata": {},
   "source": [
    "## Criacao da tabela cliente"
   ]
  },
  {
   "cell_type": "code",
   "execution_count": 7,
   "metadata": {
    "vscode": {
     "languageId": "sql"
    }
   },
   "outputs": [
    {
     "name": "stdout",
     "output_type": "stream",
     "text": [
      " * sqlite:///contatos.db\n",
      "Done.\n"
     ]
    },
    {
     "data": {
      "text/plain": [
       "[]"
      ]
     },
     "execution_count": 7,
     "metadata": {},
     "output_type": "execute_result"
    }
   ],
   "source": [
    "%%sql\n",
    "\n",
    "CREATE TABLE CLIENTE(\n",
    "    CLIENTE_ID INTEGER PRIMARY KEY,\n",
    "    NOME TEXT NOT NULL,\n",
    "    EMAIL TEXT NOT NULL UNIQUE,\n",
    "    TELEFONE TEXT NOT NULL\n",
    ");"
   ]
  },
  {
   "cell_type": "code",
   "execution_count": 8,
   "metadata": {
    "vscode": {
     "languageId": "sql"
    }
   },
   "outputs": [
    {
     "name": "stdout",
     "output_type": "stream",
     "text": [
      " * sqlite:///contatos.db\n",
      "4 rows affected.\n"
     ]
    },
    {
     "data": {
      "text/plain": [
       "[]"
      ]
     },
     "execution_count": 8,
     "metadata": {},
     "output_type": "execute_result"
    }
   ],
   "source": [
    "%%sql\n",
    "\n",
    "INSERT INTO CLIENTE(NOME, EMAIL, TELEFONE)\n",
    "VALUES\n",
    "    ('Leonardo' , 'leonardo@gmail.com', '9999-9999' ),\n",
    "    ('Rafael' , 'rafael@gmail.com', '9889-8998' ),\n",
    "    ('Michelangelo' , 'michelangelo@gmail.com', '9997-7999' ),\n",
    "    ('Donatello' , 'donatello@gmail.com', '9777-7779' );"
   ]
  },
  {
   "cell_type": "code",
   "execution_count": 13,
   "metadata": {
    "vscode": {
     "languageId": "sql"
    }
   },
   "outputs": [
    {
     "name": "stdout",
     "output_type": "stream",
     "text": [
      " * sqlite:///contatos.db\n",
      "Done.\n"
     ]
    },
    {
     "data": {
      "text/html": [
       "<table>\n",
       "    <thead>\n",
       "        <tr>\n",
       "            <th>CLIENTE_ID</th>\n",
       "            <th>NOME</th>\n",
       "            <th>EMAIL</th>\n",
       "            <th>TELEFONE</th>\n",
       "        </tr>\n",
       "    </thead>\n",
       "    <tbody>\n",
       "        <tr>\n",
       "            <td>1</td>\n",
       "            <td>Leonardo</td>\n",
       "            <td>leonardo@gmail.com</td>\n",
       "            <td>9999-9999</td>\n",
       "        </tr>\n",
       "        <tr>\n",
       "            <td>2</td>\n",
       "            <td>Rafael</td>\n",
       "            <td>rafael@gmail.com</td>\n",
       "            <td>9889-8998</td>\n",
       "        </tr>\n",
       "        <tr>\n",
       "            <td>3</td>\n",
       "            <td>Michelangelo</td>\n",
       "            <td>michelangelo@gmail.com</td>\n",
       "            <td>9997-7999</td>\n",
       "        </tr>\n",
       "        <tr>\n",
       "            <td>4</td>\n",
       "            <td>Donatello</td>\n",
       "            <td>donatello@gmail.com</td>\n",
       "            <td>9777-7779</td>\n",
       "        </tr>\n",
       "    </tbody>\n",
       "</table>"
      ],
      "text/plain": [
       "[(1, 'Leonardo', 'leonardo@gmail.com', '9999-9999'),\n",
       " (2, 'Rafael', 'rafael@gmail.com', '9889-8998'),\n",
       " (3, 'Michelangelo', 'michelangelo@gmail.com', '9997-7999'),\n",
       " (4, 'Donatello', 'donatello@gmail.com', '9777-7779')]"
      ]
     },
     "execution_count": 13,
     "metadata": {},
     "output_type": "execute_result"
    }
   ],
   "source": [
    "%%sql\n",
    "\n",
    "SELECT * FROM CLIENTE"
   ]
  },
  {
   "cell_type": "markdown",
   "metadata": {},
   "source": [
    "### Documentacao da aula e do sql"
   ]
  },
  {
   "cell_type": "markdown",
   "metadata": {},
   "source": [
    "W3Schools:  https://www.w3schools.com/sql/sql_syntax.asp"
   ]
  }
 ],
 "metadata": {
  "kernelspec": {
   "display_name": ".venv",
   "language": "python",
   "name": "python3"
  },
  "language_info": {
   "codemirror_mode": {
    "name": "ipython",
    "version": 3
   },
   "file_extension": ".py",
   "mimetype": "text/x-python",
   "name": "python",
   "nbconvert_exporter": "python",
   "pygments_lexer": "ipython3",
   "version": "3.12.7"
  }
 },
 "nbformat": 4,
 "nbformat_minor": 2
}
